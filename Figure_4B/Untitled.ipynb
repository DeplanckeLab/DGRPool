{
 "cells": [
  {
   "cell_type": "code",
   "execution_count": null,
   "id": "d6e84eaf-d8c3-4ef4-aadd-ee1a928b38f4",
   "metadata": {},
   "outputs": [],
   "source": [
    "##################################################\n",
    "## Project: PDF light\n",
    "## Script purpose: Simplifying a PDF\n",
    "## Version: 1.0.0\n",
    "## Date Created: 2024 Aug 08\n",
    "## Date Modified: 2024 Aug 08\n",
    "## Author: Vincent Gardeux (vincent.gardeux@epfl.ch)\n",
    "##################################################"
   ]
  },
  {
   "cell_type": "code",
   "execution_count": null,
   "id": "b8ba1bcf-c2e1-46d6-be22-84d8d1ae9aab",
   "metadata": {},
   "outputs": [],
   "source": []
  }
 ],
 "metadata": {
  "kernelspec": {
   "display_name": "Python 3 (ipykernel)",
   "language": "python",
   "name": "python3"
  },
  "language_info": {
   "codemirror_mode": {
    "name": "ipython",
    "version": 3
   },
   "file_extension": ".py",
   "mimetype": "text/x-python",
   "name": "python",
   "nbconvert_exporter": "python",
   "pygments_lexer": "ipython3",
   "version": "3.12.1"
  }
 },
 "nbformat": 4,
 "nbformat_minor": 5
}
